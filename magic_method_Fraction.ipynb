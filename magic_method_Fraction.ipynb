{
  "nbformat": 4,
  "nbformat_minor": 0,
  "metadata": {
    "colab": {
      "provenance": [],
      "authorship_tag": "ABX9TyM+nKv41aqVbwhjNU9GR6k3",
      "include_colab_link": true
    },
    "kernelspec": {
      "name": "python3",
      "display_name": "Python 3"
    },
    "language_info": {
      "name": "python"
    }
  },
  "cells": [
    {
      "cell_type": "markdown",
      "metadata": {
        "id": "view-in-github",
        "colab_type": "text"
      },
      "source": [
        "<a href=\"https://colab.research.google.com/github/Pradyumniitism/Call_center_Agent_behaviour_analysis/blob/main/magic_method_Fraction.ipynb\" target=\"_parent\"><img src=\"https://colab.research.google.com/assets/colab-badge.svg\" alt=\"Open In Colab\"/></a>"
      ]
    },
    {
      "cell_type": "code",
      "execution_count": 43,
      "metadata": {
        "id": "q7AwzLQmdKR-"
      },
      "outputs": [],
      "source": [
        "class Fraction:\n",
        "  def __init__(self,x,y): #CONSTRUCTOR Magic Method\n",
        "    self.num=x\n",
        "    self.den=y\n",
        "  def __str__(self):  #Structure Magic Method\n",
        "    return '{}/{}'.format(self.num,self.den)\n",
        "  def __add__(self,other): #ADD Magic Method\n",
        "    new_num=self.num*other.den+other.num*self.den\n",
        "    new_den=self.den*other.den\n",
        "    return '{}/{}'.format(new_num, new_den)\n",
        "  def __sub__(self,other): #SUB Magic Method\n",
        "    new_num=self.num*other.den-other.num*self.den\n",
        "    new_den=self.den*other.den\n",
        "    return '{}/{}'.format(new_num, new_den)\n",
        "  def __mul__(self,other):  #MULTIPLY Magic Method\n",
        "    new_num=self.num*other.num\n",
        "    new_den=self.den*other.den\n",
        "    return '{}/{}'.format(new_num, new_den)\n",
        "  def __truediv__(self,other): #DIV Magic Method\n",
        "    new_num=self.num*other.den\n",
        "    new_den=self.den*other.num\n",
        "    return '{}/{}'.format(new_num, new_den)"
      ]
    },
    {
      "cell_type": "code",
      "source": [
        "fr1=Fraction(3,4)\n",
        "fr2=Fraction(1,2)"
      ],
      "metadata": {
        "id": "gTBJ9Apfd6mG"
      },
      "execution_count": 44,
      "outputs": []
    },
    {
      "cell_type": "code",
      "source": [
        "print(fr1+fr2)"
      ],
      "metadata": {
        "colab": {
          "base_uri": "https://localhost:8080/"
        },
        "id": "PqyNfJGDfB-3",
        "outputId": "880e8474-d0a5-4d45-bd67-7b4cf1df9c90"
      },
      "execution_count": 45,
      "outputs": [
        {
          "output_type": "stream",
          "name": "stdout",
          "text": [
            "10/8\n"
          ]
        }
      ]
    },
    {
      "cell_type": "code",
      "source": [
        "print(fr1-fr2)"
      ],
      "metadata": {
        "colab": {
          "base_uri": "https://localhost:8080/"
        },
        "id": "yiwh9egJlLHZ",
        "outputId": "4e2af8ee-5a13-41f5-f663-67faf09305e5"
      },
      "execution_count": 46,
      "outputs": [
        {
          "output_type": "stream",
          "name": "stdout",
          "text": [
            "2/8\n"
          ]
        }
      ]
    },
    {
      "cell_type": "code",
      "source": [
        "print(fr1*fr2)"
      ],
      "metadata": {
        "colab": {
          "base_uri": "https://localhost:8080/"
        },
        "id": "KDxgG_GnlP_K",
        "outputId": "339fe335-524c-492c-9eba-28bd4523f333"
      },
      "execution_count": 47,
      "outputs": [
        {
          "output_type": "stream",
          "name": "stdout",
          "text": [
            "3/8\n"
          ]
        }
      ]
    },
    {
      "cell_type": "code",
      "source": [
        "print(fr1/fr2)"
      ],
      "metadata": {
        "colab": {
          "base_uri": "https://localhost:8080/"
        },
        "id": "d7r_46Mpl17Q",
        "outputId": "64caf855-137d-48c0-99f4-a98d9340f5d4"
      },
      "execution_count": 48,
      "outputs": [
        {
          "output_type": "stream",
          "name": "stdout",
          "text": [
            "6/4\n"
          ]
        }
      ]
    }
  ]
}